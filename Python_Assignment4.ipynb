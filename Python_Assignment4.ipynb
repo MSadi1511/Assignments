{
 "cells": [
  {
   "cell_type": "markdown",
   "id": "d2ea9f8f",
   "metadata": {},
   "source": [
    "1.1 Write a Python Program(with class concepts) to find the area of the triangle using the below\n",
    "formula.\n",
    "area = (s*(s-a)*(s-b)*(s-c)) ** 0.5\n",
    "Function to take the length of the sides of triangle from user should be defined in the parent\n",
    "class and function to calculate the area should be defined in subclass."
   ]
  },
  {
   "cell_type": "code",
   "execution_count": 49,
   "id": "b50a35c6",
   "metadata": {},
   "outputs": [],
   "source": [
    "class parent1:\n",
    "    def __init__(self,side1,side2,side3):\n",
    "        self.a = side1\n",
    "        self.b = side2\n",
    "        self.c = side3\n",
    "\n",
    "class child1(parent1):\n",
    "\n",
    "    def areaoftriangle(self):\n",
    "        s = (self.a+self.b+self.c)/2\n",
    "        Area = (s*(s-self.a)*(s-self.b)*(s-self.c))**0.5\n",
    "        print(Area)"
   ]
  },
  {
   "cell_type": "code",
   "execution_count": 50,
   "id": "b613cfcb",
   "metadata": {},
   "outputs": [],
   "source": [
    "P1 = child1(4,6,8)"
   ]
  },
  {
   "cell_type": "code",
   "execution_count": 51,
   "id": "799dfcf3",
   "metadata": {},
   "outputs": [
    {
     "name": "stdout",
     "output_type": "stream",
     "text": [
      "11.61895003862225\n"
     ]
    }
   ],
   "source": [
    "P1.areaoftriangle()"
   ]
  },
  {
   "cell_type": "markdown",
   "id": "c81f7fea",
   "metadata": {},
   "source": [
    "1.2 Write a function filter_long_words() that takes a list of words and an integer n and returns\n",
    "the list of words that are longer than n."
   ]
  },
  {
   "cell_type": "code",
   "execution_count": 32,
   "id": "c5c78bfc",
   "metadata": {},
   "outputs": [],
   "source": [
    "def filter_long_words(l,n):\n",
    "    a =[]\n",
    "    for i in l:\n",
    "        if type(i)!=str:\n",
    "            print(\"The List Should be of words\")\n",
    "            return\n",
    "        else:\n",
    "            if len(i)>n:\n",
    "                a.append(i)\n",
    "    return a"
   ]
  },
  {
   "cell_type": "code",
   "execution_count": 34,
   "id": "f65959f4",
   "metadata": {},
   "outputs": [
    {
     "name": "stdout",
     "output_type": "stream",
     "text": [
      "The List Should be of words\n"
     ]
    }
   ],
   "source": [
    "x = ['arun','abcdefgh','ab',3333]\n",
    "filter_long_words(x,3)"
   ]
  },
  {
   "cell_type": "markdown",
   "id": "d6520248",
   "metadata": {},
   "source": [
    "2.1 Write a Python program using function concept that maps list of words into a list of integers\n",
    "representing the lengths of the corresponding words."
   ]
  },
  {
   "cell_type": "code",
   "execution_count": 28,
   "id": "bdfaa95b",
   "metadata": {},
   "outputs": [],
   "source": [
    "\n",
    "def Lengthofwords(l):\n",
    "    b=[]\n",
    "    for i in l:\n",
    "        if type(i)!=str:\n",
    "            print(\"The List Should be of words\")\n",
    "            return\n",
    "        else:\n",
    "            b.append(len(i))\n",
    "    return b\n"
   ]
  },
  {
   "cell_type": "code",
   "execution_count": 29,
   "id": "c6e9aa64",
   "metadata": {},
   "outputs": [
    {
     "name": "stdout",
     "output_type": "stream",
     "text": [
      "The List Should be of words\n"
     ]
    }
   ],
   "source": [
    "l = ['abcd','rsfssgshshs',555]\n",
    "Lengthofwords(l)"
   ]
  },
  {
   "cell_type": "markdown",
   "id": "5bd005ee",
   "metadata": {},
   "source": [
    "2.2 Write a Python function which takes a character (i.e. a string of length 1) and returns True if\n",
    "it is a vowel, False otherwise."
   ]
  },
  {
   "cell_type": "code",
   "execution_count": 3,
   "id": "f9d36072",
   "metadata": {},
   "outputs": [],
   "source": [
    "def vowel(a):\n",
    "    if type(a)== str:\n",
    "        if len(a)==1:\n",
    "            if a in ['a','e','i','o','u']:\n",
    "                print(\"True\")\n",
    "            else:\n",
    "                print(\"False\")\n",
    "        else:\n",
    "            print(\"string shoul be length of 1\")\n",
    "    else:\n",
    "        print(\"Should enter a single length string\")"
   ]
  },
  {
   "cell_type": "code",
   "execution_count": 15,
   "id": "26c47cc7",
   "metadata": {},
   "outputs": [
    {
     "name": "stdout",
     "output_type": "stream",
     "text": [
      "True\n"
     ]
    }
   ],
   "source": [
    "vowel('i')"
   ]
  },
  {
   "cell_type": "code",
   "execution_count": null,
   "id": "1dc249e7",
   "metadata": {},
   "outputs": [],
   "source": []
  }
 ],
 "metadata": {
  "kernelspec": {
   "display_name": "Python 3",
   "language": "python",
   "name": "python3"
  },
  "language_info": {
   "codemirror_mode": {
    "name": "ipython",
    "version": 3
   },
   "file_extension": ".py",
   "mimetype": "text/x-python",
   "name": "python",
   "nbconvert_exporter": "python",
   "pygments_lexer": "ipython3",
   "version": "3.8.8"
  }
 },
 "nbformat": 4,
 "nbformat_minor": 5
}
