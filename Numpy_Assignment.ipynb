{
 "cells": [
  {
   "cell_type": "markdown",
   "id": "7622a8fa",
   "metadata": {},
   "source": [
    "Write a function so that the columns of the output matrix are powers of the input\n",
    "vector.\n",
    "The order of the powers is determined by the increasing boolean argument. Specifically, when\n",
    "increasing is False, the i-th output column is the input vector raised element-wise to the power\n",
    "of N - i - 1.\n",
    "\n",
    "HINT: Such a matrix with a geometric progression in each row is named for Alexandre-\n",
    "Theophile Vandermonde."
   ]
  },
  {
   "cell_type": "markdown",
   "id": "f817501a",
   "metadata": {},
   "source": [
    "Write a function to find moving average in an array over a window:\n",
    "Test it over [3, 5, 7, 2, 8, 10, 11, 65, 72, 81, 99, 100, 150] and window of 3."
   ]
  },
  {
   "cell_type": "code",
   "execution_count": 2,
   "id": "6e414353",
   "metadata": {},
   "outputs": [
    {
     "name": "stdout",
     "output_type": "stream",
     "text": [
      "[  5.           4.66666667   5.66666667   6.66666667   9.66666667\n",
      "  28.66666667  49.33333333  72.66666667  84.          93.33333333\n",
      " 116.33333333]\n"
     ]
    }
   ],
   "source": [
    "import numpy as np\n",
    "def movingaverage(a, n=3) :\n",
    "    x = np.cumsum(a, dtype=float)\n",
    "    x[n:] = x[n:] - x[:-n]\n",
    "    return x[n - 1:] / n\n",
    "a = [3, 5, 7, 2, 8, 10, 11, 65, 72, 81, 99, 100, 150]\n",
    "print(movingaverage(a, n=3))"
   ]
  },
  {
   "cell_type": "code",
   "execution_count": null,
   "id": "9721555a",
   "metadata": {},
   "outputs": [],
   "source": []
  }
 ],
 "metadata": {
  "kernelspec": {
   "display_name": "Python 3",
   "language": "python",
   "name": "python3"
  },
  "language_info": {
   "codemirror_mode": {
    "name": "ipython",
    "version": 3
   },
   "file_extension": ".py",
   "mimetype": "text/x-python",
   "name": "python",
   "nbconvert_exporter": "python",
   "pygments_lexer": "ipython3",
   "version": "3.8.8"
  }
 },
 "nbformat": 4,
 "nbformat_minor": 5
}
